{
  "cells": [
    {
      "cell_type": "code",
      "execution_count": null,
      "metadata": {
        "id": "8F9A7P1Jez0h"
      },
      "outputs": [],
      "source": [
        "from google.colab import drive\n",
        "drive.mount('/content/drive')"
      ]
    },
    {
      "cell_type": "code",
      "execution_count": null,
      "metadata": {
        "id": "puTIssdOe22V"
      },
      "outputs": [],
      "source": [
        "path_map = \"/content/drive/MyDrive/PYTHON_DIPLOMA/Maps/Maps/AdM-01-2014.png\"\n",
        "path_flight = \"/content/drive/MyDrive/PYTHON_DIPLOMA/Flight_1/Flight 1/image000075.png\""
      ]
    },
    {
      "cell_type": "code",
      "execution_count": null,
      "metadata": {
        "id": "vlWRFjCIe3yz"
      },
      "outputs": [],
      "source": [
        "!git clone --quiet https://github.com/cvg/LightGlue/\n",
        "!pip install --progress-bar off --quiet -e .\n",
        "!pip install kornia"
      ]
    },
    {
      "cell_type": "code",
      "execution_count": null,
      "metadata": {
        "colab": {
          "base_uri": "https://localhost:8080/"
        },
        "id": "bBBLjsBDgYQt",
        "outputId": "75a5ea1c-ff4d-4f05-8fa0-d8b98759d361"
      },
      "outputs": [
        {
          "output_type": "stream",
          "name": "stdout",
          "text": [
            "/content/LightGlue\n"
          ]
        }
      ],
      "source": [
        "from google.colab.patches import cv2_imshow\n",
        "import cv2\n",
        "%cd LightGlue\n",
        "from lightglue import LightGlue, SuperPoint, ALIKED, DISK, SIFT, match_pair\n",
        "from lightglue.utils import load_image, rbd\n",
        "from lightglue import viz2d\n",
        "import torch\n",
        "import matplotlib.pyplot as plt\n",
        "import numpy as np\n",
        "import torchvision.transforms as transforms"
      ]
    },
    {
      "cell_type": "code",
      "execution_count": null,
      "metadata": {
        "id": "N19V8ZOwgXpZ"
      },
      "outputs": [],
      "source": [
        "def get_map_pic_2(mx, my, mdx, mdy):\n",
        "  path_map = \"/content/drive/MyDrive/PYTHON_DIPLOMA/Maps/Maps/AdM-01-2014.png\"\n",
        "  map = cv2.imread(path_map, cv2.IMREAD_UNCHANGED)\n",
        "  map = map[int(mx):int(mx+mdx), int(my):int(my+mdy)]\n",
        "  return map"
      ]
    },
    {
      "cell_type": "code",
      "execution_count": null,
      "metadata": {
        "id": "8O3bhjKHgdoA"
      },
      "outputs": [],
      "source": [
        "uav_2 = cv2.imread(path_flight, cv2.IMREAD_UNCHANGED)\n",
        "uav_2 = cv2.rotate(uav_2, cv2.ROTATE_90_COUNTERCLOCKWISE)\n",
        "uav_2 = cv2.cvtColor(uav_2, cv2.COLOR_BGR2GRAY)"
      ]
    },
    {
      "cell_type": "markdown",
      "metadata": {
        "id": "Vy72NUEsz22p"
      },
      "source": [
        "# **SIFT**"
      ]
    },
    {
      "cell_type": "code",
      "execution_count": null,
      "metadata": {
        "id": "kiCaofZnnf9G"
      },
      "outputs": [],
      "source": [
        "final_coords = []\n",
        "for i in np.arange(1.3, 1.9, 0.05):\n",
        "  image1 = get_map_pic_2(1000*i, 1000*i, 4000/i, 4000/i)\n",
        "  image2 = cv2.imread(path_flight, cv2.IMREAD_GRAYSCALE)\n",
        "  sift = cv2.SIFT_create()\n",
        "  keypoints1, descriptors1 = sift.detectAndCompute(get_map_pic_2(1000*i, 1000*i, 4000/i, 4000/i), None)\n",
        "  keypoints2, descriptors2 = sift.detectAndCompute(image2, None)\n",
        "  matcher = cv2.BFMatcher()\n",
        "  matches = matcher.knnMatch(descriptors1, descriptors2, k=2)\n",
        "  good_matches = []\n",
        "  for m, n in matches:\n",
        "      if m.distance < 0.75 * n.distance:\n",
        "          good_matches.append(m)\n",
        "\n",
        "  src_points = np.float32([keypoints1[m.queryIdx].pt for m in good_matches]).reshape(-1, 1, 2)\n",
        "  dst_points = np.float32([keypoints2[m.trainIdx].pt for m in good_matches]).reshape(-1, 1, 2)\n",
        "\n",
        "  M, mask = cv2.findHomography(src_points, dst_points, cv2.RANSAC)\n",
        "\n",
        "  scale = np.sqrt(np.linalg.det(M[:2, :2]))\n",
        "  angle = np.arctan2(M[1, 0], M[0, 0]) * 180 / np.pi\n",
        "  translation = M[:, 2]\n",
        "\n",
        "  print(\"Scale:\", scale)\n",
        "  print(\"Rotation angle (degrees):\", angle)\n",
        "  print(\"Translation:\", translation)\n",
        "\n",
        "  height, width = image1.shape[:2]\n",
        "  center = np.array([width / 2, height / 2, 1])\n",
        "\n",
        "  transformed_center = np.dot(M, center)\n",
        "  transformed_center /= transformed_center[2]\n",
        "  final_coords.append((transformed_center[0]+1000*i, transformed_center[1]+1000*i))\n",
        "  print(\"Transformed center:\", final_coords)"
      ]
    },
    {
      "cell_type": "code",
      "execution_count": null,
      "metadata": {
        "id": "QNMe6fYJvm9S"
      },
      "outputs": [],
      "source": [
        "true_point = (2648, 2089)\n",
        "distances = [np.linalg.norm(np.array(point) - np.array(true_point)) for point in final_coords]\n",
        "print(distances)\n",
        "sizes = [4000/i for i in np.arange(1.3, 1.9, 0.05)]\n",
        "print(sizes)\n",
        "plt.xlabel('Размер фото (pix)')\n",
        "plt.ylabel('AED (pix)')\n",
        "plt.plot(sizes, distances)\n",
        "plt.show()"
      ]
    },
    {
      "cell_type": "markdown",
      "metadata": {
        "id": "DW-ksj6Jz5u9"
      },
      "source": [
        "# **ORB**"
      ]
    },
    {
      "cell_type": "code",
      "execution_count": null,
      "metadata": {
        "id": "HeTxh9vgz51A"
      },
      "outputs": [],
      "source": [
        "final_coords = []\n",
        "for i in np.arange(1.3, 1.9, 0.05):\n",
        "  image1 = get_map_pic_2(1000*i, 1000*i, 4000/i, 4000/i)\n",
        "  image2 = cv2.imread(path_flight, cv2.IMREAD_GRAYSCALE)\n",
        "  orb = cv2.ORB_create()\n",
        "  keypoints1, descriptors1 = orb.detectAndCompute(get_map_pic_2(1000*i, 1000*i, 4000/i, 4000/i), None)\n",
        "  keypoints2, descriptors2 = orb.detectAndCompute(image2, None)\n",
        "  matcher = cv2.BFMatcher(cv2.NORM_HAMMING, crossCheck=True)\n",
        "  matches = matcher.match(descriptors1, descriptors2)\n",
        "  good_matches = []\n",
        "  for m in matches:\n",
        "    if m.distance < 75:\n",
        "        good_matches.append(m)\n",
        "\n",
        "  src_points = np.float32([keypoints1[m.queryIdx].pt for m in good_matches]).reshape(-1, 1, 2)\n",
        "  dst_points = np.float32([keypoints2[m.trainIdx].pt for m in good_matches]).reshape(-1, 1, 2)\n",
        "  print(src_points)\n",
        "  print(dst_points)\n",
        "  M, mask = cv2.findHomography(src_points, dst_points, cv2.RANSAC)\n",
        "\n",
        "  scale = np.sqrt(np.linalg.det(M[:2, :2]))\n",
        "  angle = np.arctan2(M[1, 0], M[0, 0]) * 180 / np.pi\n",
        "  translation = M[:, 2]\n",
        "\n",
        "  print(\"Scale:\", scale)\n",
        "  print(\"Rotation angle (degrees):\", angle)\n",
        "  print(\"Translation:\", translation)\n",
        "\n",
        "  height, width = image1.shape[:2]\n",
        "  center = np.array([width / 2, height / 2, 1])\n",
        "\n",
        "  transformed_center = np.dot(M, center)\n",
        "  transformed_center /= transformed_center[2]\n",
        "  final_coords.append((transformed_center[0]+1000*i, transformed_center[1]+1000*i))\n",
        "  print(\"Transformed center:\", final_coords)"
      ]
    },
    {
      "cell_type": "code",
      "execution_count": null,
      "metadata": {
        "id": "kgsyyLAmz53W"
      },
      "outputs": [],
      "source": [
        "true_point = (2648, 2089)\n",
        "distances = [np.linalg.norm(np.array(point) - np.array(true_point)) for point in final_coords]\n",
        "print(distances)\n",
        "sizes = [4000/i for i in np.arange(1.3, 1.9, 0.05)]\n",
        "plt.xlabel('Размер фото (pix)')\n",
        "plt.ylabel('AED (pix)')\n",
        "plt.plot(sizes, distances)\n",
        "plt.show()"
      ]
    },
    {
      "cell_type": "markdown",
      "metadata": {
        "id": "LGCmm9Syvay8"
      },
      "source": [
        "# **FAST+BRIEF**"
      ]
    },
    {
      "cell_type": "code",
      "execution_count": null,
      "metadata": {
        "id": "ox764j0Vva3H"
      },
      "outputs": [],
      "source": [
        "final_coords = []\n",
        "for i in np.arange(1.3, 1.9, 0.05):\n",
        "  brief = cv2.xfeatures2d.BriefDescriptorExtractor_create()\n",
        "  image1 = get_map_pic_2(1000*i, 1000*i, 4000/i, 4000/i)\n",
        "  image2 = cv2.imread(path_flight, cv2.IMREAD_GRAYSCALE)\n",
        "  fast = cv2.FastFeatureDetector_create()\n",
        "  keypoints1 = fast.detect(image1, None)\n",
        "  keypoints2 = fast.detect(image2, None)\n",
        "  keypoints1, descriptors1 = brief.compute(image1, keypoints1)\n",
        "  keypoints2, descriptors2 = brief.compute(image2, keypoints2)\n",
        "  bf = cv2.BFMatcher()\n",
        "  matches = bf.knnMatch(descriptors1, descriptors2, k=2)\n",
        "  good_matches = []\n",
        "  for m, n in matches:\n",
        "      if m.distance < 0.75 * n.distance:\n",
        "          good_matches.append(m)\n",
        "\n",
        "  src_points = np.float32([keypoints1[m.queryIdx].pt for m in good_matches]).reshape(-1, 1, 2)\n",
        "  dst_points = np.float32([keypoints2[m.trainIdx].pt for m in good_matches]).reshape(-1, 1, 2)\n",
        "  M, mask = cv2.findHomography(src_points, dst_points, cv2.RANSAC)\n",
        "\n",
        "  scale = np.sqrt(np.linalg.det(M[:2, :2]))\n",
        "  angle = np.arctan2(M[1, 0], M[0, 0]) * 180 / np.pi\n",
        "  translation = M[:, 2]\n",
        "\n",
        "  print(\"Scale:\", scale)\n",
        "  print(\"Rotation angle (degrees):\", angle)\n",
        "  print(\"Translation:\", translation)\n",
        "\n",
        "  height, width = image1.shape[:2]\n",
        "  center = np.array([width / 2, height / 2, 1])\n",
        "\n",
        "  transformed_center = np.dot(M, center)\n",
        "  transformed_center /= transformed_center[2]\n",
        "  final_coords.append((transformed_center[0]+1000*i, transformed_center[1]+1000*i))\n",
        "  print(\"Transformed center:\", final_coords)"
      ]
    },
    {
      "cell_type": "code",
      "execution_count": null,
      "metadata": {
        "id": "vLcMXbOOva47"
      },
      "outputs": [],
      "source": [
        "true_point = (2648, 2089)\n",
        "distances = [np.linalg.norm(np.array(point) - np.array(true_point)) for point in final_coords]\n",
        "print(distances)\n",
        "sizes = [4000/i for i in np.arange(1.3, 1.9, 0.05)]\n",
        "plt.xlabel('Размер фото (pix)')\n",
        "plt.ylabel('AED (pix)')\n",
        "plt.plot(sizes, distances)\n",
        "plt.show()"
      ]
    },
    {
      "cell_type": "markdown",
      "metadata": {
        "id": "p9m5e8g8vbU9"
      },
      "source": [
        "# **FAST+SIFT**"
      ]
    },
    {
      "cell_type": "code",
      "execution_count": null,
      "metadata": {
        "id": "0TPXJSlWvbZj"
      },
      "outputs": [],
      "source": [
        "final_coords = []\n",
        "for i in np.arange(1.3, 1.9, 0.05):\n",
        "  sift = cv2.SIFT_create()\n",
        "  image1 = get_map_pic_2(1000*i, 1000*i, 4000/i, 4000/i)\n",
        "  image2 = cv2.imread(path_flight, cv2.IMREAD_GRAYSCALE)\n",
        "  fast = cv2.FastFeatureDetector_create()\n",
        "  keypoints1 = fast.detect(image1, None)\n",
        "  keypoints2 = fast.detect(image2, None)\n",
        "  keypoints1, descriptors1 = sift.compute(image1, keypoints1)\n",
        "  keypoints2, descriptors2 = sift.compute(image2, keypoints2)\n",
        "  bf = cv2.BFMatcher()\n",
        "  matches = bf.knnMatch(descriptors1, descriptors2, k=2)\n",
        "  good_matches = []\n",
        "  for m, n in matches:\n",
        "      if m.distance < 0.75 * n.distance:\n",
        "          good_matches.append(m)\n",
        "\n",
        "  src_points = np.float32([keypoints1[m.queryIdx].pt for m in good_matches]).reshape(-1, 1, 2)\n",
        "  dst_points = np.float32([keypoints2[m.trainIdx].pt for m in good_matches]).reshape(-1, 1, 2)\n",
        "  M, mask = cv2.findHomography(src_points, dst_points, cv2.RANSAC)\n",
        "\n",
        "  scale = np.sqrt(np.linalg.det(M[:2, :2]))\n",
        "  angle = np.arctan2(M[1, 0], M[0, 0]) * 180 / np.pi\n",
        "  translation = M[:, 2]\n",
        "\n",
        "  print(\"Scale:\", scale)\n",
        "  print(\"Rotation angle (degrees):\", angle)\n",
        "  print(\"Translation:\", translation)\n",
        "\n",
        "  height, width = image1.shape[:2]\n",
        "  center = np.array([width / 2, height / 2, 1])\n",
        "\n",
        "  transformed_center = np.dot(M, center)\n",
        "  transformed_center /= transformed_center[2]\n",
        "  final_coords.append((transformed_center[0]+1000*i, transformed_center[1]+1000*i))\n",
        "  print(\"Transformed center:\", final_coords)"
      ]
    },
    {
      "cell_type": "code",
      "execution_count": null,
      "metadata": {
        "id": "W-kezPUsvbb3"
      },
      "outputs": [],
      "source": [
        "true_point = (2648, 2089)\n",
        "final_coords = [(1748.4893794646239, 1478.8790219908367), (1629.673686973992, 1412.2153311348732), (1679.7770728733587, 1462.35135607735), (1702.7838066791269, 1674.009236370458), (1779.589909684702, 1562.1051052624246), (1829.2889571520634, 1611.7091416813998), (1878.836964245516, 1661.1144541128833), (1928.2572022919344, 1710.3516606674555), (1954.9633797536653, 1923.5277357413545)]\n",
        "distances = [np.linalg.norm(np.array(point) - np.array(true_point)) for point in final_coords]\n",
        "print(distances)\n",
        "sizes = [4000/i for i in np.arange(1.3, 1.9, 0.05)]\n",
        "plt.xlabel('Размер фото (pix)')\n",
        "plt.ylabel('AED (pix)')\n",
        "plt.plot(sizes, distances)\n",
        "plt.show()"
      ]
    },
    {
      "cell_type": "markdown",
      "metadata": {
        "id": "IaAUxskOSrmM"
      },
      "source": [
        "# **STAR+SIFT**"
      ]
    },
    {
      "cell_type": "code",
      "execution_count": null,
      "metadata": {
        "id": "dOj1QTzhSrqD"
      },
      "outputs": [],
      "source": [
        "star = cv2.xfeatures2d.StarDetector_create()\n",
        "kp_uav = star.detect(uav_2, None)\n",
        "sift = cv2.SIFT_create()\n",
        "kp_uav, des_uav = sift.compute(uav_2, kp_uav)\n",
        "final_coords = []\n",
        "for i in np.arange(1.3, 1.9, 0.05):\n",
        "  matched_points_x = []\n",
        "  matched_points_y = []\n",
        "  map = get_map_pic_2(1000*i, 1000*i, 4000/i, 4000/i)\n",
        "  kp_sat = star.detect(map, None)\n",
        "  kp_sat, des_sat = sift.compute(map, kp_sat)\n",
        "  bf = cv2.BFMatcher()\n",
        "  matches = bf.knnMatch(des_sat, des_uav, k=2)\n",
        "\n",
        "  good = []\n",
        "  for m, n in matches:\n",
        "      if m.distance < 0.75 * n.distance:\n",
        "          good.append([m])\n",
        "\n",
        "\n",
        "  final_coords.append((mean_x + 1000*i, mean_y + 1000*i))\n",
        "  matches_img = cv2.drawMatchesKnn(map, kp_sat, uav_2, kp_uav, good, None, flags=cv2.DrawMatchesFlags_NOT_DRAW_SINGLE_POINTS)\n",
        "  cv2_imshow(cv2.resize(matches_img, (0,0), fx=0.25, fy=0.25))"
      ]
    },
    {
      "cell_type": "code",
      "execution_count": null,
      "metadata": {
        "id": "phkZWiIHSrsE"
      },
      "outputs": [],
      "source": [
        "true_point = (2648, 2089)\n",
        "distances = [np.linalg.norm(np.array(point) - np.array(true_point)) for point in final_coords]\n",
        "print(distances)\n",
        "sizes = [4000/i for i in np.arange(1.3, 1.9, 0.05)]\n",
        "plt.xlabel('Размер фото (pix)')\n",
        "plt.ylabel('AED (pix)')\n",
        "plt.plot(sizes, distances)\n",
        "plt.show()"
      ]
    },
    {
      "cell_type": "markdown",
      "metadata": {
        "id": "wdbad5qLSrwy"
      },
      "source": [
        "# **STAR+ORB**"
      ]
    },
    {
      "cell_type": "code",
      "execution_count": null,
      "metadata": {
        "id": "nPAJlgAQSr0i"
      },
      "outputs": [],
      "source": [
        "star = cv2.xfeatures2d.StarDetector_create()\n",
        "kp_uav = star.detect(uav_2, None)\n",
        "orb = cv2.ORB_create()\n",
        "kp_uav, des_uav = orb.compute(uav_2, kp_uav)\n",
        "final_coords = []\n",
        "for i in np.arange(1.3, 1.9, 0.05):\n",
        "  matched_points_x = []\n",
        "  matched_points_y = []\n",
        "  map = get_map_pic_2(1000*i, 1000*i, 4000/i, 4000/i)\n",
        "  kp_sat = star.detect(map, None)\n",
        "  kp_sat, des_sat = orb.compute(map, kp_sat)\n",
        "  bf = cv2.BFMatcher(cv2.NORM_HAMMING, crossCheck=True)\n",
        "  matches = bf.match(des_sat, des_uav)\n",
        "\n",
        "  for m in matches:\n",
        "    if m.distance < 75:\n",
        "        good_matches.append(m)\n",
        "\n",
        "  final_coords.append((mean_x + 1000*i, mean_y + 1000*i))\n",
        "  matches_img = cv2.drawMatchesKnn(map, kp_sat, uav_2, kp_uav, good, None, flags=cv2.DrawMatchesFlags_NOT_DRAW_SINGLE_POINTS)\n",
        "  cv2_imshow(cv2.resize(matches_img, (0,0), fx=0.25, fy=0.25))"
      ]
    },
    {
      "cell_type": "code",
      "execution_count": null,
      "metadata": {
        "id": "wyqynBYKSr21"
      },
      "outputs": [],
      "source": [
        "true_point = (2648, 2089)\n",
        "distances = [np.linalg.norm(np.array(point) - np.array(true_point)) for point in final_coords]\n",
        "print(distances)\n",
        "sizes = [4000/i for i in np.arange(1.3, 1.9, 0.05)]\n",
        "plt.xlabel('Размер фото (pix)')\n",
        "plt.ylabel('AED (pix)')\n",
        "plt.plot(sizes, distances)\n",
        "plt.show()"
      ]
    },
    {
      "cell_type": "markdown",
      "metadata": {
        "id": "4dRLJRooSr7m"
      },
      "source": [
        "# **STAR+BRIEF**"
      ]
    },
    {
      "cell_type": "code",
      "execution_count": null,
      "metadata": {
        "id": "_-h3H3sqSr_t"
      },
      "outputs": [],
      "source": [
        "star = cv2.xfeatures2d.StarDetector_create()\n",
        "kp_uav = star.detect(uav_2, None)\n",
        "brief = cv2.xfeatures2d.BriefDescriptorExtractor_create()\n",
        "kp_uav, des_uav = brief.compute(uav_2, kp_uav)\n",
        "final_coords = []\n",
        "for i in np.arange(1.3, 1.9, 0.05):\n",
        "  matched_points_x = []\n",
        "  matched_points_y = []\n",
        "  map = get_map_pic_2(1000*i, 1000*i, 4000/i, 4000/i)\n",
        "  kp_sat = star.detect(map, None)\n",
        "  kp_sat, des_sat = brief.compute(map, kp_sat)\n",
        "  bf = cv2.BFMatcher()\n",
        "  matches = bf.knnMatch(des_sat, des_uav, k=2)\n",
        "\n",
        "  for m, n in matches:\n",
        "      if m.distance < 0.75 * n.distance:\n",
        "          good_matches.append(m)\n",
        "\n",
        "  final_coords.append((mean_x + 1000*i, mean_y + 1000*i))\n",
        "  matches_img = cv2.drawMatchesKnn(map, kp_sat, uav_2, kp_uav, good, None, flags=cv2.DrawMatchesFlags_NOT_DRAW_SINGLE_POINTS)\n",
        "  cv2_imshow(cv2.resize(matches_img, (0,0), fx=0.25, fy=0.25))"
      ]
    },
    {
      "cell_type": "code",
      "execution_count": null,
      "metadata": {
        "id": "wKYrMb4lSsBL"
      },
      "outputs": [],
      "source": [
        "true_point = (2648, 2089)\n",
        "distances = [np.linalg.norm(np.array(point) - np.array(true_point)) for point in final_coords]\n",
        "print(distances)\n",
        "sizes = [4000/i for i in np.arange(1.3, 1.9, 0.05)]\n",
        "plt.xlabel('Размер фото (pix)')\n",
        "plt.ylabel('AED (pix)')\n",
        "plt.plot(sizes, distances)\n",
        "plt.show()"
      ]
    },
    {
      "cell_type": "markdown",
      "metadata": {
        "id": "NysOax-USsKG"
      },
      "source": [
        "# **KAZE**"
      ]
    },
    {
      "cell_type": "code",
      "execution_count": null,
      "metadata": {
        "id": "sS2ytdZ7SsNt"
      },
      "outputs": [],
      "source": [
        "final_coords = []\n",
        "for i in np.arange(1.3, 1.9, 0.05):\n",
        "  image1 = get_map_pic_2(1000*i, 1000*i, 4000/i, 4000/i)\n",
        "  image2 = cv2.imread(path_flight, cv2.IMREAD_GRAYSCALE)\n",
        "  kaze = cv2.KAZE_create()\n",
        "  keypoints1, descriptors1 = kaze.detectAndCompute(get_map_pic_2(1000*i, 1000*i, 4000/i, 4000/i), None)\n",
        "  keypoints2, descriptors2 = kaze.detectAndCompute(image2, None)\n",
        "  matcher = cv2.BFMatcher()\n",
        "  matches = matcher.knnMatch(descriptors1, descriptors2, k=2)\n",
        "  good_matches = []\n",
        "  for m, n in matches:\n",
        "      if m.distance < 0.75 * n.distance:\n",
        "          good_matches.append(m)\n",
        "\n",
        "  src_points = np.float32([keypoints1[m.queryIdx].pt for m in good_matches]).reshape(-1, 1, 2)\n",
        "  dst_points = np.float32([keypoints2[m.trainIdx].pt for m in good_matches]).reshape(-1, 1, 2)\n",
        "\n",
        "  M, mask = cv2.findHomography(src_points, dst_points, cv2.RANSAC)\n",
        "\n",
        "  scale = np.sqrt(np.linalg.det(M[:2, :2]))\n",
        "  angle = np.arctan2(M[1, 0], M[0, 0]) * 180 / np.pi\n",
        "  translation = M[:, 2]\n",
        "\n",
        "  print(\"Scale:\", scale)\n",
        "  print(\"Rotation angle (degrees):\", angle)\n",
        "  print(\"Translation:\", translation)\n",
        "\n",
        "  height, width = image1.shape[:2]\n",
        "  center = np.array([width / 2, height / 2, 1])\n",
        "\n",
        "  transformed_center = np.dot(M, center)\n",
        "  transformed_center /= transformed_center[2]\n",
        "  final_coords.append((transformed_center[0]+1000*i, transformed_center[1]+1000*i))\n",
        "  print(\"Transformed center:\", final_coords)"
      ]
    },
    {
      "cell_type": "code",
      "execution_count": null,
      "metadata": {
        "id": "loB7-fc3SsPb"
      },
      "outputs": [],
      "source": [
        "true_point = (2648, 2089)\n",
        "distances = [np.linalg.norm(np.array(point) - np.array(true_point)) for point in final_coords]\n",
        "print(distances)\n",
        "sizes = [4000/i for i in np.arange(1.3, 1.9, 0.05)]\n",
        "plt.xlabel('Размер фото (pix)')\n",
        "plt.ylabel('AED (pix)')\n",
        "plt.plot(sizes, distances)\n",
        "plt.show()"
      ]
    },
    {
      "cell_type": "markdown",
      "metadata": {
        "id": "A5EKQb1XS68f"
      },
      "source": [
        "# **AKAZE**"
      ]
    },
    {
      "cell_type": "code",
      "execution_count": null,
      "metadata": {
        "id": "8ms_KRrsS7CI"
      },
      "outputs": [],
      "source": [
        "final_coords = []\n",
        "for i in np.arange(1.3, 1.9, 0.05):\n",
        "  image1 = get_map_pic_2(1000*i, 1000*i, 4000/i, 4000/i)\n",
        "  image2 = cv2.imread(path_flight, cv2.IMREAD_GRAYSCALE)\n",
        "  akaze = cv2.AKAZE_create()\n",
        "  keypoints1, descriptors1 = akaze.detectAndCompute(get_map_pic_2(1000*i, 1000*i, 4000/i, 4000/i), None)\n",
        "  keypoints2, descriptors2 = akaze.detectAndCompute(image2, None)\n",
        "  matcher = cv2.BFMatcher()\n",
        "  matches = matcher.knnMatch(descriptors1, descriptors2, k=2)\n",
        "  good_matches = []\n",
        "  for m, n in matches:\n",
        "      if m.distance < 0.75 * n.distance:\n",
        "          good_matches.append(m)\n",
        "\n",
        "  src_points = np.float32([keypoints1[m.queryIdx].pt for m in good_matches]).reshape(-1, 1, 2)\n",
        "  dst_points = np.float32([keypoints2[m.trainIdx].pt for m in good_matches]).reshape(-1, 1, 2)\n",
        "\n",
        "  M, mask = cv2.findHomography(src_points, dst_points, cv2.RANSAC)\n",
        "\n",
        "  scale = np.sqrt(np.linalg.det(M[:2, :2]))\n",
        "  angle = np.arctan2(M[1, 0], M[0, 0]) * 180 / np.pi\n",
        "  translation = M[:, 2]\n",
        "\n",
        "  print(\"Scale:\", scale)\n",
        "  print(\"Rotation angle (degrees):\", angle)\n",
        "  print(\"Translation:\", translation)\n",
        "\n",
        "  height, width = image1.shape[:2]\n",
        "  center = np.array([width / 2, height / 2, 1])\n",
        "\n",
        "  transformed_center = np.dot(M, center)\n",
        "  transformed_center /= transformed_center[2]\n",
        "  final_coords.append((transformed_center[0]+1000*i, transformed_center[1]+1000*i))\n",
        "  print(\"Transformed center:\", final_coords)"
      ]
    },
    {
      "cell_type": "code",
      "execution_count": null,
      "metadata": {
        "id": "Ji58mEP-S7Dz"
      },
      "outputs": [],
      "source": [
        "true_point = (2648, 2089)\n",
        "distances = [np.linalg.norm(np.array(point) - np.array(true_point)) for point in final_coords]\n",
        "print(distances)\n",
        "sizes = [4000/i for i in np.arange(1.3, 1.9, 0.05)]\n",
        "plt.xlabel('Размер фото (pix)')\n",
        "plt.ylabel('AED (pix)')\n",
        "plt.plot(sizes, distances)\n",
        "plt.show()"
      ]
    }
  ],
  "metadata": {
    "colab": {
      "provenance": []
    },
    "kernelspec": {
      "display_name": "Python 3",
      "name": "python3"
    },
    "language_info": {
      "name": "python"
    }
  },
  "nbformat": 4,
  "nbformat_minor": 0
}