{
  "cells": [
    {
      "cell_type": "code",
      "execution_count": null,
      "metadata": {
        "id": "Hp2l3TKQSEsV"
      },
      "outputs": [],
      "source": [
        "from google.colab import drive\n",
        "drive.mount('/content/drive')"
      ]
    },
    {
      "cell_type": "code",
      "execution_count": null,
      "metadata": {
        "id": "7OArMJvUNUTS"
      },
      "outputs": [],
      "source": [
        "!unzip -u \"/content/drive/My Drive/PYTHON_DIPLOMA/Flight 1.zip\" -d \"/content/drive/My Drive/PYTHON_DIPLOMA/Flight_1\""
      ]
    },
    {
      "cell_type": "code",
      "execution_count": null,
      "metadata": {
        "id": "dpklrb9Kf-7Q"
      },
      "outputs": [],
      "source": [
        "!git clone --quiet https://github.com/cvg/LightGlue/\n",
        "!pip install --progress-bar off --quiet -e .\n",
        "!pip install kornia"
      ]
    },
    {
      "cell_type": "code",
      "execution_count": null,
      "metadata": {
        "id": "DXGBH2EtgHKM"
      },
      "outputs": [],
      "source": [
        "from google.colab.patches import cv2_imshow\n",
        "import cv2\n",
        "%cd LightGlue\n",
        "from lightglue import LightGlue, SuperPoint, ALIKED, DISK, SIFT, match_pair\n",
        "from lightglue.utils import load_image, rbd\n",
        "from lightglue import viz2d\n",
        "import torch\n",
        "import matplotlib.pyplot as plt\n",
        "import numpy as np\n",
        "import torchvision.transforms as transforms\n",
        "import math\n",
        "from skimage.measure import ransac\n",
        "from skimage.transform import AffineTransform"
      ]
    },
    {
      "cell_type": "code",
      "execution_count": null,
      "metadata": {
        "id": "hHwWYwS9gQPn"
      },
      "outputs": [],
      "source": [
        "device = torch.device(\"cuda\" if torch.cuda.is_available() else \"cpu\")\n",
        "extractor = SuperPoint(max_num_keypoints=2048).eval().to(device)  # load the extractor\n",
        "matcher = LightGlue(features=\"superpoint\").eval().to(device)"
      ]
    },
    {
      "cell_type": "code",
      "execution_count": null,
      "metadata": {
        "id": "kh4yRmd7bwNT"
      },
      "outputs": [],
      "source": [
        "def get_map_pic_2(path_map):\n",
        "  map = cv2.imread(path_map, cv2.IMREAD_COLOR)\n",
        "  mx, my, mdx, mdy = 1000, 1000, 2100, 2100\n",
        "  map = map[mx:mx+mdx, my:my+mdy]\n",
        "  tsat_img = transforms.ToTensor()(map[:,:,0:4])\n",
        "  return tsat_img\n",
        "\n",
        "\n",
        "def get_mean(m_kpts0):\n",
        "  min_x, min_y, max_x, max_y = np.inf, np.inf, -np.inf, -np.inf\n",
        "  for x, y in m_kpts0:\n",
        "      min_x = min(min_x, x)\n",
        "      min_y = min(min_y, y)\n",
        "      max_x = max(max_x, x)\n",
        "      max_y = max(max_y, y)\n",
        "\n",
        "  edge_points = [\n",
        "      (min_x, max_y),\n",
        "      (max_x, max_y),\n",
        "      (max_x, min_y),\n",
        "      (min_x, min_y)\n",
        "  ]\n",
        "  mean_coord_x = np.mean([int(min_x), int(max_x)])\n",
        "  mean_coord_y = np.mean([int(min_y), int(max_y)])\n",
        "  return [mean_coord_x+1000, mean_coord_y+1000]\n",
        "\n",
        "\n",
        "def initialize_particles(num_particles, map_size):\n",
        "  particles = np.random.rand(num_particles, 2) * map_size\n",
        "  return particles\n",
        "\n",
        "\n",
        "def update_particles(particles, movement_model):\n",
        "  particles -= movement_model\n",
        "  return particles\n",
        "\n",
        "\n",
        "def calculate_angle(x1, y1, x2, y2):\n",
        "  delta_x = x2 - x1\n",
        "  delta_y = y2 - y1\n",
        "  angle_rad = math.atan2(delta_y, delta_x)\n",
        "  angle_deg = math.degrees(angle_rad)\n",
        "  if angle_deg < 0:\n",
        "      angle_deg += 360\n",
        "\n",
        "  return angle_deg\n",
        "\n",
        "\n",
        "def update_weights(particles, measurements, measurement_noise):\n",
        "  weights = np.zeros(len(particles))\n",
        "  for i, particle in enumerate(particles):\n",
        "      distance_to_measurements = np.linalg.norm(measurements - particle, axis=1)\n",
        "      prob_measurement = np.exp(-0.5 * (distance_to_measurements**2) / (measurement_noise**2))\n",
        "      weights[i] = np.prod(prob_measurement)\n",
        "  weights /= np.sum(weights)\n",
        "  return weights\n",
        "\n",
        "\n",
        "def resample_particles(particles, weights):\n",
        "  indices = np.random.choice(len(particles), size=len(particles), replace=True, p=weights)\n",
        "  return particles[indices]\n",
        "\n",
        "\n",
        "def move_drone(x0, y0, angle, speed_per_pixel):\n",
        "  angle_rad = math.radians(angle)\n",
        "  delta_x = speed_per_pixel * math.cos(angle_rad)\n",
        "  delta_y = speed_per_pixel * math.sin(angle_rad)\n",
        "\n",
        "  new_x = x0 - delta_x\n",
        "  new_y = y0 - delta_y\n",
        "  return new_x, new_y"
      ]
    },
    {
      "cell_type": "code",
      "source": [
        "num_particles = 2000\n",
        "map_size = 4800\n",
        "measurement_noise = 20\n",
        "\n",
        "initial_x = 3044\n",
        "initial_y = 2147\n",
        "init_xy = [initial_x, initial_y]\n",
        "\n",
        "particles = initialize_particles(num_particles, map_size)\n",
        "angles = []\n",
        "final_coords = []\n",
        "\n",
        "tsat_img = get_map_pic_2(\"/content/drive/MyDrive/PYTHON_DIPLOMA/Maps/Maps/AdM-01-2014.png\")\n",
        "\n",
        "for t in range(1, 31):\n",
        "  if 49 + t * 2 > 100:\n",
        "    path_flight = f\"/content/drive/MyDrive/PYTHON_DIPLOMA/Flight_1/Flight 1/image000{49 + t * 2}.png\"\n",
        "  else:\n",
        "    path_flight = f\"/content/drive/MyDrive/PYTHON_DIPLOMA/Flight_1/Flight 1/image0000{49 + t * 2}.png\"\n",
        "\n",
        "  uav = cv2.imread(path_flight, cv2.IMREAD_COLOR)\n",
        "  uav = cv2.resize(uav, (0,0), fx=0.3, fy=0.3)\n",
        "  uav = cv2.rotate(uav, cv2.ROTATE_90_COUNTERCLOCKWISE)\n",
        "  tframe = transforms.ToTensor()(uav)\n",
        "\n",
        "  image0 = tsat_img\n",
        "  image1 = tframe\n",
        "  feats0 = extractor.extract(image0.to(device))\n",
        "  feats1 = extractor.extract(image1.to(device))\n",
        "  matches01 = matcher({\"image0\": feats0, \"image1\": feats1})\n",
        "\n",
        "  feats0, feats1, matches01 = [\n",
        "      rbd(x) for x in [feats0, feats1, matches01]\n",
        "  ]\n",
        "\n",
        "  kpts0, kpts1, matches = feats0[\"keypoints\"], feats1[\"keypoints\"], matches01[\"matches\"]\n",
        "  m_kpts0, m_kpts1 = kpts0[matches[..., 0]], kpts1[matches[..., 1]]\n",
        "  print(len(m_kpts0))\n",
        "\n",
        "  source_points = np.array([[x, y] for x, y in m_kpts0.detach().cpu().numpy()])\n",
        "  destination_points = np.array([[x, y] for x, y in m_kpts1.detach().cpu().numpy()])\n",
        "\n",
        "  model, inliers = ransac((source_points, destination_points), AffineTransform, min_samples=3, residual_threshold=5, max_trials=1000)\n",
        "  matrix = model.params\n",
        "  inlier_indices = np.nonzero(inliers)[0]\n",
        "  inlier_source_points = source_points[inlier_indices]\n",
        "  inlier_destination_points = destination_points[inlier_indices]\n",
        "  print(len(inlier_source_points))\n",
        "\n",
        "  axes = viz2d.plot_images([image0, image1])\n",
        "  inlier_source_points = inlier_source_points.reshape(-1, 2)\n",
        "  inlier_destination_points = inlier_destination_points.reshape(-1, 2)\n",
        "  viz2d.plot_matches(inlier_source_points, inlier_destination_points, color=\"lime\", lw=0.2)\n",
        "  viz2d.add_text(0, f'Stop after {matches01[\"stop\"]} layers', fs=20)\n",
        "  plt.show()\n",
        "\n",
        "  curr = get_mean(inlier_source_points)\n",
        "  print(curr)\n",
        "\n",
        "  initial_angle = calculate_angle(curr[0], curr[1], initial_x, initial_y)\n",
        "  angles.append(initial_angle)\n",
        "  print(initial_angle)\n",
        "\n",
        "  speed_per_sec_pix = np.linalg.norm(np.array(curr)-np.array(init_xy))\n",
        "  new_x, new_y = move_drone(initial_x, initial_y, initial_angle, speed_per_sec_pix)\n",
        "\n",
        "  angle_rad = math.radians(initial_angle)\n",
        "  measurements = np.array([[new_x, new_y]])\n",
        "  particles = update_particles(particles, np.array([speed_per_sec_pix*math.cos(angle_rad), speed_per_sec_pix*math.sin(angle_rad)]))\n",
        "  weights = update_weights(particles, measurements, measurement_noise)\n",
        "  particles = resample_particles(particles, weights)\n",
        "  estimated_position = np.mean(particles, axis=0)\n",
        "\n",
        "  print(f\"Кадр {49+t*2}: Оценка позиции БПЛА: ({estimated_position[0]}, {estimated_position[1]})\")\n",
        "\n",
        "  final_coords.append((initial_x, initial_y))\n",
        "  initial_x = estimated_position[0]\n",
        "  initial_y = estimated_position[1]\n",
        "  init_xy = [initial_x, initial_y]"
      ],
      "metadata": {
        "id": "MbZIUGBwGvr2",
        "collapsed": true
      },
      "execution_count": null,
      "outputs": []
    },
    {
      "cell_type": "code",
      "execution_count": null,
      "metadata": {
        "id": "wdVrtyOSI9Xn"
      },
      "outputs": [],
      "source": [
        "import pandas as pd\n",
        "import matplotlib.pyplot as plt\n",
        "\n",
        "data = pd.read_csv('/content/traj1_ground_truth.txt', delim_whitespace=True)\n",
        "\n",
        "data.to_csv('/content/output_file.csv', index=False)"
      ]
    },
    {
      "cell_type": "code",
      "source": [
        "df = pd.read_csv(\"/content/output_file.csv\")\n",
        "df.head(5)"
      ],
      "metadata": {
        "id": "78bj6Yx0QfE-"
      },
      "execution_count": null,
      "outputs": []
    },
    {
      "cell_type": "code",
      "source": [
        "data['coordinates'] = list(zip(data['px-x'], data['px-y']))"
      ],
      "metadata": {
        "id": "ONbTQsXSRD-1"
      },
      "execution_count": null,
      "outputs": []
    },
    {
      "cell_type": "code",
      "source": [
        "every_third_coordinate = data['coordinates'][::3].tolist()\n",
        "every_third_coordinate = every_third_coordinate[:30]\n",
        "print(every_third_coordinate)\n",
        "print(angles)"
      ],
      "metadata": {
        "id": "CNofca5wQzOA"
      },
      "execution_count": null,
      "outputs": []
    },
    {
      "cell_type": "code",
      "source": [
        "distances = np.linalg.norm(np.array(final_coords) - np.array(every_third_coordinate), axis=1)\n",
        "print(distances)"
      ],
      "metadata": {
        "id": "c7vNTyzuRqMX"
      },
      "execution_count": null,
      "outputs": []
    },
    {
      "cell_type": "code",
      "source": [
        "sizes = [49 + 2*i for i in range(1, 31)]\n",
        "plt.xlabel('Номер кадра')\n",
        "plt.ylabel('AED (pix)')\n",
        "plt.plot(sizes, distances)\n",
        "plt.show()"
      ],
      "metadata": {
        "id": "qSIxf53ic-r7"
      },
      "execution_count": null,
      "outputs": []
    }
  ],
  "metadata": {
    "colab": {
      "provenance": [],
      "gpuType": "T4"
    },
    "kernelspec": {
      "display_name": "Python 3",
      "name": "python3"
    },
    "language_info": {
      "name": "python"
    },
    "accelerator": "GPU"
  },
  "nbformat": 4,
  "nbformat_minor": 0
}
